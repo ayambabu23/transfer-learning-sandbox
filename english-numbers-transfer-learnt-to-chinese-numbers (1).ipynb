{
 "cells": [
  {
   "cell_type": "code",
   "execution_count": null,
   "metadata": {
    "_cell_guid": "b1076dfc-b9ad-4769-8c92-a6c4dae69d19",
    "_uuid": "8f2839f25d086af736a60e9eeb907d3b93b6e0e5"
   },
   "outputs": [],
   "source": [
    "import os\n",
    "import numpy as np\n",
    "import pandas as pd\n",
    "import tensorflow as tf\n",
    "from PIL import Image\n",
    "from sklearn.model_selection import train_test_split"
   ]
  },
  {
   "cell_type": "code",
   "execution_count": null,
   "metadata": {},
   "outputs": [],
   "source": [
    "(X_train, y_train), (X_test, y_test) = tf.keras.datasets.mnist.load_data()\n",
    "print(X_train.shape)"
   ]
  },
  {
   "cell_type": "code",
   "execution_count": null,
   "metadata": {},
   "outputs": [],
   "source": [
    "PATH_FOR_CSV:str = \"/kaggle/input/chinese-mnist/chinese_mnist.csv\"\n",
    "\n",
    "c_mnist = pd.read_csv(PATH_FOR_CSV)\n",
    "c_mnist = c_mnist.drop(columns=['character'], axis = 1)\n",
    "c_mnist.head()"
   ]
  },
  {
   "cell_type": "code",
   "execution_count": null,
   "metadata": {},
   "outputs": [],
   "source": [
    "TEST_INDEX:int = 0\n",
    "MAX:int = 10\n",
    "RANDOM_STATE:int = 40\n",
    "MNIST_X_NUM_ROWS:int = mnist_X.shape[0]\n",
    "TEST_SIZE:float = 0.1\n",
    "TRAIN_EPOCHS:int = 10\n",
    "TRANSFER_TRAIN_EPOCHS:int = 5\n",
    "VERBOSE:int = 1\n",
    "X_TRAIN_NUM_ROWS:int = X_train.shape[0]\n",
    "X_TEST_NUM_ROWS:int = X_test.shape[0]\n",
    "HOME_DIR:str = '/kaggle/input'"
   ]
  },
  {
   "cell_type": "code",
   "execution_count": null,
   "metadata": {},
   "outputs": [],
   "source": [
    "# Simple feature adjustments\n",
    "\n",
    "X_train = X_train.astype('float32')\n",
    "X_test = X_test.astype('float32')\n",
    "\n",
    "X_train = X_train.reshape(X_TRAIN_NUM_ROWS, 28, 28, 1)\n",
    "X_test = X_test.reshape(X_TEST_NUM_ROWS, 28, 28, 1)"
   ]
  },
  {
   "cell_type": "code",
   "execution_count": null,
   "metadata": {},
   "outputs": [],
   "source": [
    "from tensorflow.keras.models import Sequential\n",
    "from tensorflow.keras.layers import Dense, Conv2D, MaxPooling2D, Flatten, BatchNormalization\n",
    "\n",
    "model = Sequential()\n",
    "model.add(Conv2D(28, kernel_size=(3,3), input_shape = X_train.shape[1:]))\n",
    "model.add(MaxPooling2D(pool_size=(2,2)))\n",
    "model.add(Conv2D(28, kernel_size=(3,3)))\n",
    "model.add(MaxPooling2D(pool_size=(2,2)))\n",
    "model.add(Flatten())\n",
    "model.add(Dense(128, activation = 'relu'))\n",
    "model.add(Dense(10, activation = 'softmax'))\n",
    "\n",
    "model.compile(optimizer='adam', loss='sparse_categorical_crossentropy', metrics=['accuracy'])\n",
    "model.fit(x=X_train,y=y_train, epochs=TRAIN_EPOCHS, verbose = VERBOSE)"
   ]
  },
  {
   "cell_type": "code",
   "execution_count": null,
   "metadata": {},
   "outputs": [],
   "source": [
    "model.evaluate(X_test, y_test)"
   ]
  },
  {
   "cell_type": "code",
   "execution_count": null,
   "metadata": {},
   "outputs": [],
   "source": [
    "c_mnist['path'] = c_mnist['sample_id']\n",
    "for index, row in c_mnist.iterrows():\n",
    "    c_mnist['path'][index] = \"/kaggle/input/chinese-mnist/data/data/input_\" + str(c_mnist['suite_id'][index]) + \"_\" + str(c_mnist['sample_id'][index]) + \"_\" + str(c_mnist['code'][index]) + \".jpg\"\n",
    "c_mnist['path']"
   ]
  },
  {
   "cell_type": "code",
   "execution_count": null,
   "metadata": {},
   "outputs": [],
   "source": [
    "print(c_mnist['path'][TEST_INDEX])"
   ]
  },
  {
   "cell_type": "code",
   "execution_count": null,
   "metadata": {},
   "outputs": [],
   "source": [
    "mnist_X = []\n",
    "mnist_y = []\n",
    "\n",
    "for index, row in c_mnist.iterrows():\n",
    "    if(c_mnist['value'][index] % MAX != 0):\n",
    "        y = np.asarray(Image.open(c_mnist['path'][index]).resize((28, 28)))\n",
    "        mnist_X.append(y)\n",
    "        mnist_y.append(c_mnist['value'][index])\n",
    "        \n",
    "mnist_X = np.asarray(mnist_X)\n",
    "mnist_y = np.asarray(mnist_y)\n",
    "\n",
    "print(mnist_X.shape)\n",
    "print(mnist_y.shape)\n",
    "print(X_train.shape)\n",
    "print(y_train.shape)"
   ]
  },
  {
   "cell_type": "code",
   "execution_count": null,
   "metadata": {},
   "outputs": [],
   "source": [
    "print(type(X_train))\n",
    "print(mnist_X[TEST_INDEX].shape)"
   ]
  },
  {
   "cell_type": "code",
   "execution_count": null,
   "metadata": {},
   "outputs": [],
   "source": [
    "print(type(y_train[TEST_INDEX]))\n",
    "print(type(c_mnist['value'][TEST_INDEX]))"
   ]
  },
  {
   "cell_type": "code",
   "execution_count": null,
   "metadata": {},
   "outputs": [],
   "source": [
    "for layer in model.layers[:2]:\n",
    "    layer.trainable = False"
   ]
  },
  {
   "cell_type": "code",
   "execution_count": null,
   "metadata": {},
   "outputs": [],
   "source": [
    "model.summary()"
   ]
  },
  {
   "cell_type": "code",
   "execution_count": null,
   "metadata": {},
   "outputs": [],
   "source": [
    "mnist_X = mnist_X.reshape(MNIST_X_NUM_ROWS, 28, 28, 1)\n",
    "mnist_X_train, mnist_X_test, mnist_y_train, mnist_y_test = train_test_split(mnist_X, mnist_y, test_size=TEST_SIZE, random_state=RANDOM_STATE)\n",
    "model.fit(x=mnist_X_train,y=mnist_y_train, epochs=TRANSFER_TRAIN_EPOCHS, verbose = VERBOSE)"
   ]
  },
  {
   "cell_type": "code",
   "execution_count": null,
   "metadata": {},
   "outputs": [],
   "source": [
    "model.evaluate(x=mnist_X_test, y=mnist_y_test)"
   ]
  }
 ],
 "metadata": {
  "kernelspec": {
   "display_name": "Python 3",
   "language": "python",
   "name": "python3"
  },
  "language_info": {
   "codemirror_mode": {
    "name": "ipython",
    "version": 3
   },
   "file_extension": ".py",
   "mimetype": "text/x-python",
   "name": "python",
   "nbconvert_exporter": "python",
   "pygments_lexer": "ipython3",
   "version": "3.7.10"
  }
 },
 "nbformat": 4,
 "nbformat_minor": 4
}
