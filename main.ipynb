{
 "cells": [
  {
   "cell_type": "code",
   "execution_count": 1,
   "metadata": {
    "_cell_guid": "b1076dfc-b9ad-4769-8c92-a6c4dae69d19",
    "_uuid": "8f2839f25d086af736a60e9eeb907d3b93b6e0e5",
    "execution": {
     "iopub.execute_input": "2021-03-28T08:30:10.216159Z",
     "iopub.status.busy": "2021-03-28T08:30:10.215478Z",
     "iopub.status.idle": "2021-03-28T08:30:18.228453Z",
     "shell.execute_reply": "2021-03-28T08:30:18.227551Z"
    },
    "papermill": {
     "duration": 8.027839,
     "end_time": "2021-03-28T08:30:18.228684",
     "exception": false,
     "start_time": "2021-03-28T08:30:10.200845",
     "status": "completed"
    },
    "tags": []
   },
   "outputs": [],
   "source": [
    "import os\n",
    "import numpy as np\n",
    "import pandas as pd\n",
    "import tensorflow as tf\n",
    "from PIL import Image\n",
    "from sklearn.model_selection import train_test_split"
   ]
  },
  {
   "cell_type": "code",
   "execution_count": 2,
   "metadata": {
    "execution": {
     "iopub.execute_input": "2021-03-28T08:30:18.258398Z",
     "iopub.status.busy": "2021-03-28T08:30:18.257700Z",
     "iopub.status.idle": "2021-03-28T08:30:19.434696Z",
     "shell.execute_reply": "2021-03-28T08:30:19.435609Z"
    },
    "papermill": {
     "duration": 1.195499,
     "end_time": "2021-03-28T08:30:19.435917",
     "exception": false,
     "start_time": "2021-03-28T08:30:18.240418",
     "status": "completed"
    },
    "tags": []
   },
   "outputs": [
    {
     "name": "stdout",
     "output_type": "stream",
     "text": [
      "Downloading data from https://storage.googleapis.com/tensorflow/tf-keras-datasets/mnist.npz\n",
      "11493376/11490434 [==============================] - 0s 0us/step\n",
      "(60000, 28, 28)\n"
     ]
    }
   ],
   "source": [
    "(X_train, y_train), (X_test, y_test) = tf.keras.datasets.mnist.load_data()\n",
    "print(X_train.shape)"
   ]
  },
  {
   "cell_type": "code",
   "execution_count": 3,
   "metadata": {
    "execution": {
     "iopub.execute_input": "2021-03-28T08:30:19.470424Z",
     "iopub.status.busy": "2021-03-28T08:30:19.469752Z",
     "iopub.status.idle": "2021-03-28T08:30:19.538129Z",
     "shell.execute_reply": "2021-03-28T08:30:19.538571Z"
    },
    "papermill": {
     "duration": 0.084682,
     "end_time": "2021-03-28T08:30:19.538749",
     "exception": false,
     "start_time": "2021-03-28T08:30:19.454067",
     "status": "completed"
    },
    "tags": []
   },
   "outputs": [
    {
     "data": {
      "text/html": [
       "<div>\n",
       "<style scoped>\n",
       "    .dataframe tbody tr th:only-of-type {\n",
       "        vertical-align: middle;\n",
       "    }\n",
       "\n",
       "    .dataframe tbody tr th {\n",
       "        vertical-align: top;\n",
       "    }\n",
       "\n",
       "    .dataframe thead th {\n",
       "        text-align: right;\n",
       "    }\n",
       "</style>\n",
       "<table border=\"1\" class=\"dataframe\">\n",
       "  <thead>\n",
       "    <tr style=\"text-align: right;\">\n",
       "      <th></th>\n",
       "      <th>suite_id</th>\n",
       "      <th>sample_id</th>\n",
       "      <th>code</th>\n",
       "      <th>value</th>\n",
       "    </tr>\n",
       "  </thead>\n",
       "  <tbody>\n",
       "    <tr>\n",
       "      <th>0</th>\n",
       "      <td>1</td>\n",
       "      <td>1</td>\n",
       "      <td>10</td>\n",
       "      <td>9</td>\n",
       "    </tr>\n",
       "    <tr>\n",
       "      <th>1</th>\n",
       "      <td>1</td>\n",
       "      <td>10</td>\n",
       "      <td>10</td>\n",
       "      <td>9</td>\n",
       "    </tr>\n",
       "    <tr>\n",
       "      <th>2</th>\n",
       "      <td>1</td>\n",
       "      <td>2</td>\n",
       "      <td>10</td>\n",
       "      <td>9</td>\n",
       "    </tr>\n",
       "    <tr>\n",
       "      <th>3</th>\n",
       "      <td>1</td>\n",
       "      <td>3</td>\n",
       "      <td>10</td>\n",
       "      <td>9</td>\n",
       "    </tr>\n",
       "    <tr>\n",
       "      <th>4</th>\n",
       "      <td>1</td>\n",
       "      <td>4</td>\n",
       "      <td>10</td>\n",
       "      <td>9</td>\n",
       "    </tr>\n",
       "  </tbody>\n",
       "</table>\n",
       "</div>"
      ],
      "text/plain": [
       "   suite_id  sample_id  code  value\n",
       "0         1          1    10      9\n",
       "1         1         10    10      9\n",
       "2         1          2    10      9\n",
       "3         1          3    10      9\n",
       "4         1          4    10      9"
      ]
     },
     "execution_count": 3,
     "metadata": {},
     "output_type": "execute_result"
    }
   ],
   "source": [
    "PATH_FOR_CSV:str = \"/kaggle/input/chinese-mnist/chinese_mnist.csv\"\n",
    "\n",
    "c_mnist = pd.read_csv(PATH_FOR_CSV)\n",
    "c_mnist = c_mnist.drop(columns=['character'], axis = 1)\n",
    "c_mnist.head()"
   ]
  },
  {
   "cell_type": "code",
   "execution_count": 4,
   "metadata": {
    "execution": {
     "iopub.execute_input": "2021-03-28T08:30:19.568496Z",
     "iopub.status.busy": "2021-03-28T08:30:19.567882Z",
     "iopub.status.idle": "2021-03-28T08:30:19.575632Z",
     "shell.execute_reply": "2021-03-28T08:30:19.574976Z"
    },
    "papermill": {
     "duration": 0.023448,
     "end_time": "2021-03-28T08:30:19.575775",
     "exception": false,
     "start_time": "2021-03-28T08:30:19.552327",
     "status": "completed"
    },
    "tags": []
   },
   "outputs": [],
   "source": [
    "# Preprocessing Global Variables\n",
    "TEST_INDEX:int = 0\n",
    "MAX:int = 10\n",
    "NUM_VAL_OF_INTEREST:int = 9\n",
    "NUM_TOTAL_VAL:int = 15      #1-9,0,10,100,1000,10000\n",
    "MNIST_X_NUM_ROWS:int = int((NUM_VAL_OF_INTEREST * len(c_mnist))/NUM_TOTAL_VAL)\n",
    "HOME_DIR:str = '/kaggle/input'\n"
    "\n",
    "# Model-specific Global Variables\n",
    "RANDOM_STATE:int = 40\n",
    "TEST_SIZE:float = 0.1\n",
    "TRAIN_EPOCHS:int = 10\n",
    "TRANSFER_TRAIN_EPOCHS:int = 5\n",
    "VERBOSE:int = 1\n",
    "X_TRAIN_NUM_ROWS:int = X_train.shape[0]\n",
    "X_TEST_NUM_ROWS:int = X_test.shape[0]\n",
   ]
  },
  {
   "cell_type": "code",
   "execution_count": 5,
   "metadata": {
    "execution": {
     "iopub.execute_input": "2021-03-28T08:30:19.608712Z",
     "iopub.status.busy": "2021-03-28T08:30:19.607328Z",
     "iopub.status.idle": "2021-03-28T08:30:19.864597Z",
     "shell.execute_reply": "2021-03-28T08:30:19.863885Z"
    },
    "papermill": {
     "duration": 0.275646,
     "end_time": "2021-03-28T08:30:19.864748",
     "exception": false,
     "start_time": "2021-03-28T08:30:19.589102",
     "status": "completed"
    },
    "tags": []
   },
   "outputs": [],
   "source": [
    "# Simple feature adjustments\n",
    "\n",
    "X_train = X_train.astype('float32')\n",
    "X_test = X_test.astype('float32')\n",
    "\n",
    "X_train = X_train.reshape(X_TRAIN_NUM_ROWS, 28, 28, 1)\n",
    "X_test = X_test.reshape(X_TEST_NUM_ROWS, 28, 28, 1)"
   ]
  },
  {
   "cell_type": "code",
   "execution_count": 6,
   "metadata": {
    "execution": {
     "iopub.execute_input": "2021-03-28T08:30:19.900764Z",
     "iopub.status.busy": "2021-03-28T08:30:19.899626Z",
     "iopub.status.idle": "2021-03-28T08:30:30.078275Z",
     "shell.execute_reply": "2021-03-28T08:30:30.076979Z"
    },
    "papermill": {
     "duration": 10.200371,
     "end_time": "2021-03-28T08:30:30.078466",
     "exception": false,
     "start_time": "2021-03-28T08:30:19.878095",
     "status": "completed"
    },
    "tags": []
   },
   "outputs": [
    {
     "name": "stderr",
     "output_type": "stream",
     "text": [
      "/opt/conda/lib/python3.7/site-packages/ipykernel_launcher.py:3: SettingWithCopyWarning: \n",
      "A value is trying to be set on a copy of a slice from a DataFrame\n",
      "\n",
      "See the caveats in the documentation: https://pandas.pydata.org/pandas-docs/stable/user_guide/indexing.html#returning-a-view-versus-a-copy\n",
      "  This is separate from the ipykernel package so we can avoid doing imports until\n"
     ]
    },
    {
     "data": {
      "text/plain": [
       "0        /kaggle/input/chinese-mnist/data/data/input_1_...\n",
       "1        /kaggle/input/chinese-mnist/data/data/input_1_...\n",
       "2        /kaggle/input/chinese-mnist/data/data/input_1_...\n",
       "3        /kaggle/input/chinese-mnist/data/data/input_1_...\n",
       "4        /kaggle/input/chinese-mnist/data/data/input_1_...\n",
       "                               ...                        \n",
       "14995    /kaggle/input/chinese-mnist/data/data/input_99...\n",
       "14996    /kaggle/input/chinese-mnist/data/data/input_99...\n",
       "14997    /kaggle/input/chinese-mnist/data/data/input_99...\n",
       "14998    /kaggle/input/chinese-mnist/data/data/input_99...\n",
       "14999    /kaggle/input/chinese-mnist/data/data/input_99...\n",
       "Name: path, Length: 15000, dtype: object"
      ]
     },
     "execution_count": 6,
     "metadata": {},
     "output_type": "execute_result"
    }
   ],
   "source": [
    "c_mnist['path'] = c_mnist['sample_id']\n",
    "for index, row in c_mnist.iterrows():\n",
    "    c_mnist['path'][index] = \"/kaggle/input/chinese-mnist/data/data/input_\" + str(c_mnist['suite_id'][index]) + \"_\" + str(c_mnist['sample_id'][index]) + \"_\" + str(c_mnist['code'][index]) + \".jpg\"\n",
    "c_mnist['path']"
   ]
  },
  {
   "cell_type": "code",
   "execution_count": 7,
   "metadata": {
    "execution": {
     "iopub.execute_input": "2021-03-28T08:30:30.114970Z",
     "iopub.status.busy": "2021-03-28T08:30:30.114148Z",
     "iopub.status.idle": "2021-03-28T08:30:30.118974Z",
     "shell.execute_reply": "2021-03-28T08:30:30.117889Z"
    },
    "papermill": {
     "duration": 0.024784,
     "end_time": "2021-03-28T08:30:30.119146",
     "exception": false,
     "start_time": "2021-03-28T08:30:30.094362",
     "status": "completed"
    },
    "tags": []
   },
   "outputs": [
    {
     "name": "stdout",
     "output_type": "stream",
     "text": [
      "/kaggle/input/chinese-mnist/data/data/input_1_1_10.jpg\n"
     ]
    }
   ],
   "source": [
    "print(c_mnist['path'][TEST_INDEX])"
   ]
  },
  {
   "cell_type": "code",
   "execution_count": 8,
   "metadata": {
    "execution": {
     "iopub.execute_input": "2021-03-28T08:30:30.159950Z",
     "iopub.status.busy": "2021-03-28T08:30:30.158996Z",
     "iopub.status.idle": "2021-03-28T08:31:12.432502Z",
     "shell.execute_reply": "2021-03-28T08:31:12.433069Z"
    },
    "papermill": {
     "duration": 42.298369,
     "end_time": "2021-03-28T08:31:12.433381",
     "exception": false,
     "start_time": "2021-03-28T08:30:30.135012",
     "status": "completed"
    },
    "tags": []
   },
   "outputs": [
    {
     "name": "stdout",
     "output_type": "stream",
     "text": [
      "(9000, 28, 28, 1)\n",
      "(9000,)\n",
      "(60000, 28, 28, 1)\n",
      "(60000,)\n"
     ]
    }
   ],
   "source": [
    "mnist_X = []\n",
    "mnist_y = []\n",
    "\n",
    "for index, row in c_mnist.iterrows():\n",
    "    if(c_mnist['value'][index] % MAX != 0):\n",
    "        y = np.asarray(Image.open(c_mnist['path'][index]).resize((28, 28)))\n",
    "        mnist_X.append(y)\n",
    "        mnist_y.append(c_mnist['value'][index])\n",
    "        \n",
    "mnist_X = np.asarray(mnist_X)\n",
    "mnist_y = np.asarray(mnist_y)\n",
    "mnist_X = mnist_X.reshape(MNIST_X_NUM_ROWS, 28, 28, 1)\n",
    "mnist_X_train, mnist_X_test, mnist_y_train, mnist_y_test = train_test_split(mnist_X, mnist_y, test_size=TEST_SIZE, random_state=RANDOM_STATE)\n",
    "\n",
    "print(mnist_X.shape)\n",
    "print(mnist_y.shape)\n",
    "print(X_train.shape)\n",
    "print(y_train.shape)"
   ]
  },
  {
   "cell_type": "code",
   "execution_count": 9,
   "metadata": {
    "execution": {
     "iopub.execute_input": "2021-03-28T08:31:12.471424Z",
     "iopub.status.busy": "2021-03-28T08:31:12.470390Z",
     "iopub.status.idle": "2021-03-28T08:31:12.474662Z",
     "shell.execute_reply": "2021-03-28T08:31:12.474010Z"
    },
    "papermill": {
     "duration": 0.026278,
     "end_time": "2021-03-28T08:31:12.474804",
     "exception": false,
     "start_time": "2021-03-28T08:31:12.448526",
     "status": "completed"
    },
    "tags": []
   },
   "outputs": [
    {
     "name": "stdout",
     "output_type": "stream",
     "text": [
      "<class 'numpy.ndarray'>\n",
      "(28, 28, 1)\n"
     ]
    }
   ],
   "source": [
    "print(type(X_train))\n",
    "print(mnist_X[TEST_INDEX].shape)"
   ]
  },
  {
   "cell_type": "code",
   "execution_count": 10,
   "metadata": {
    "execution": {
     "iopub.execute_input": "2021-03-28T08:31:12.512915Z",
     "iopub.status.busy": "2021-03-28T08:31:12.511992Z",
     "iopub.status.idle": "2021-03-28T08:31:12.516416Z",
     "shell.execute_reply": "2021-03-28T08:31:12.515388Z"
    },
    "papermill": {
     "duration": 0.02523,
     "end_time": "2021-03-28T08:31:12.516625",
     "exception": false,
     "start_time": "2021-03-28T08:31:12.491395",
     "status": "completed"
    },
    "tags": []
   },
   "outputs": [
    {
     "name": "stdout",
     "output_type": "stream",
     "text": [
      "<class 'numpy.uint8'>\n",
      "<class 'numpy.int64'>\n"
     ]
    }
   ],
   "source": [
    "print(type(y_train[TEST_INDEX]))\n",
    "print(type(c_mnist['value'][TEST_INDEX]))"
   ]
  },
  {
   "cell_type": "code",
   "execution_count": 11,
   "metadata": {
    "execution": {
     "iopub.execute_input": "2021-03-28T08:31:12.561046Z",
     "iopub.status.busy": "2021-03-28T08:31:12.560120Z",
     "iopub.status.idle": "2021-03-28T08:35:38.207841Z",
     "shell.execute_reply": "2021-03-28T08:35:38.207213Z"
    },
    "papermill": {
     "duration": 265.672483,
     "end_time": "2021-03-28T08:35:38.208051",
     "exception": false,
     "start_time": "2021-03-28T08:31:12.535568",
     "status": "completed"
    },
    "tags": []
   },
   "outputs": [
    {
     "name": "stdout",
     "output_type": "stream",
     "text": [
      "Epoch 1/10\n",
      "1875/1875 [==============================] - 26s 14ms/step - loss: 2.2801 - accuracy: 0.8622\n",
      "Epoch 2/10\n",
      "1875/1875 [==============================] - 26s 14ms/step - loss: 0.1093 - accuracy: 0.9701\n",
      "Epoch 3/10\n",
      "1875/1875 [==============================] - 27s 15ms/step - loss: 0.0839 - accuracy: 0.9766\n",
      "Epoch 4/10\n",
      "1875/1875 [==============================] - 33s 18ms/step - loss: 0.0814 - accuracy: 0.9793\n",
      "Epoch 5/10\n",
      "1875/1875 [==============================] - 26s 14ms/step - loss: 0.0668 - accuracy: 0.9824\n",
      "Epoch 6/10\n",
      "1875/1875 [==============================] - 26s 14ms/step - loss: 0.0643 - accuracy: 0.9827\n",
      "Epoch 7/10\n",
      "1875/1875 [==============================] - 26s 14ms/step - loss: 0.0573 - accuracy: 0.9854\n",
      "Epoch 8/10\n",
      "1875/1875 [==============================] - 25s 13ms/step - loss: 0.0535 - accuracy: 0.9864\n",
      "Epoch 9/10\n",
      "1875/1875 [==============================] - 25s 14ms/step - loss: 0.0602 - accuracy: 0.9853\n",
      "Epoch 10/10\n",
      "1875/1875 [==============================] - 25s 13ms/step - loss: 0.0527 - accuracy: 0.9874\n"
     ]
    },
    {
     "data": {
      "text/plain": [
       "<tensorflow.python.keras.callbacks.History at 0x7fa736261590>"
      ]
     },
     "execution_count": 11,
     "metadata": {},
     "output_type": "execute_result"
    }
   ],
   "source": [
    "from tensorflow.keras.models import Sequential\n",
    "from tensorflow.keras.layers import Dense, Conv2D, MaxPooling2D, Flatten, BatchNormalization\n",
    "\n",
    "model = Sequential()\n",
    "model.add(Conv2D(28, kernel_size=(3,3), input_shape = X_train.shape[1:]))\n",
    "model.add(MaxPooling2D(pool_size=(2,2)))\n",
    "model.add(Conv2D(28, kernel_size=(3,3)))\n",
    "model.add(MaxPooling2D(pool_size=(2,2)))\n",
    "model.add(Flatten())\n",
    "model.add(Dense(128, activation = 'relu'))\n",
    "model.add(Dense(10, activation = 'softmax'))\n",
    "\n",
    "model.compile(optimizer='adam', loss='sparse_categorical_crossentropy', metrics=['accuracy'])\n",
    "model.fit(x=X_train,y=y_train, epochs=TRAIN_EPOCHS, verbose = VERBOSE)"
   ]
  },
  {
   "cell_type": "code",
   "execution_count": 12,
   "metadata": {
    "execution": {
     "iopub.execute_input": "2021-03-28T08:35:41.267652Z",
     "iopub.status.busy": "2021-03-28T08:35:41.266532Z",
     "iopub.status.idle": "2021-03-28T08:35:43.091711Z",
     "shell.execute_reply": "2021-03-28T08:35:43.092282Z"
    },
    "papermill": {
     "duration": 3.343192,
     "end_time": "2021-03-28T08:35:43.092487",
     "exception": false,
     "start_time": "2021-03-28T08:35:39.749295",
     "status": "completed"
    },
    "tags": []
   },
   "outputs": [
    {
     "name": "stdout",
     "output_type": "stream",
     "text": [
      "313/313 [==============================] - 2s 5ms/step - loss: 0.1167 - accuracy: 0.9779\n"
     ]
    },
    {
     "data": {
      "text/plain": [
       "[0.11665757745504379, 0.9779000282287598]"
      ]
     },
     "execution_count": 12,
     "metadata": {},
     "output_type": "execute_result"
    }
   ],
   "source": [
    "model.evaluate(X_test, y_test)"
   ]
  },
  {
   "cell_type": "code",
   "execution_count": 13,
   "metadata": {
    "execution": {
     "iopub.execute_input": "2021-03-28T08:35:46.140341Z",
     "iopub.status.busy": "2021-03-28T08:35:46.139662Z",
     "iopub.status.idle": "2021-03-28T08:35:46.142538Z",
     "shell.execute_reply": "2021-03-28T08:35:46.141960Z"
    },
    "papermill": {
     "duration": 1.501964,
     "end_time": "2021-03-28T08:35:46.142684",
     "exception": false,
     "start_time": "2021-03-28T08:35:44.640720",
     "status": "completed"
    },
    "tags": []
   },
   "outputs": [],
   "source": [
    "for layer in model.layers[:2]:\n",
    "    layer.trainable = False"
   ]
  },
  {
   "cell_type": "code",
   "execution_count": 14,
   "metadata": {
    "execution": {
     "iopub.execute_input": "2021-03-28T08:35:49.259394Z",
     "iopub.status.busy": "2021-03-28T08:35:49.258299Z",
     "iopub.status.idle": "2021-03-28T08:35:49.269756Z",
     "shell.execute_reply": "2021-03-28T08:35:49.270783Z"
    },
    "papermill": {
     "duration": 1.568551,
     "end_time": "2021-03-28T08:35:49.271026",
     "exception": false,
     "start_time": "2021-03-28T08:35:47.702475",
     "status": "completed"
    },
    "tags": []
   },
   "outputs": [
    {
     "name": "stdout",
     "output_type": "stream",
     "text": [
      "Model: \"sequential\"\n",
      "_________________________________________________________________\n",
      "Layer (type)                 Output Shape              Param #   \n",
      "=================================================================\n",
      "conv2d (Conv2D)              (None, 26, 26, 28)        280       \n",
      "_________________________________________________________________\n",
      "max_pooling2d (MaxPooling2D) (None, 13, 13, 28)        0         \n",
      "_________________________________________________________________\n",
      "conv2d_1 (Conv2D)            (None, 11, 11, 28)        7084      \n",
      "_________________________________________________________________\n",
      "max_pooling2d_1 (MaxPooling2 (None, 5, 5, 28)          0         \n",
      "_________________________________________________________________\n",
      "flatten (Flatten)            (None, 700)               0         \n",
      "_________________________________________________________________\n",
      "dense (Dense)                (None, 128)               89728     \n",
      "_________________________________________________________________\n",
      "dense_1 (Dense)              (None, 10)                1290      \n",
      "=================================================================\n",
      "Total params: 98,382\n",
      "Trainable params: 98,102\n",
      "Non-trainable params: 280\n",
      "_________________________________________________________________\n"
     ]
    }
   ],
   "source": [
    "model.summary()"
   ]
  },
  {
   "cell_type": "code",
   "execution_count": 15,
   "metadata": {
    "execution": {
     "iopub.execute_input": "2021-03-28T08:35:52.355432Z",
     "iopub.status.busy": "2021-03-28T08:35:52.353404Z",
     "iopub.status.idle": "2021-03-28T08:36:09.891738Z",
     "shell.execute_reply": "2021-03-28T08:36:09.891096Z"
    },
    "papermill": {
     "duration": 19.063751,
     "end_time": "2021-03-28T08:36:09.891922",
     "exception": false,
     "start_time": "2021-03-28T08:35:50.828171",
     "status": "completed"
    },
    "tags": []
   },
   "outputs": [
    {
     "name": "stdout",
     "output_type": "stream",
     "text": [
      "Epoch 1/5\n",
      "254/254 [==============================] - 4s 14ms/step - loss: 0.7197 - accuracy: 0.7505\n",
      "Epoch 2/5\n",
      "254/254 [==============================] - 4s 14ms/step - loss: 0.1682 - accuracy: 0.9441\n",
      "Epoch 3/5\n",
      "254/254 [==============================] - 3s 13ms/step - loss: 0.0931 - accuracy: 0.9691\n",
      "Epoch 4/5\n",
      "254/254 [==============================] - 3s 13ms/step - loss: 0.0631 - accuracy: 0.9795\n",
      "Epoch 5/5\n",
      "254/254 [==============================] - 3s 13ms/step - loss: 0.0448 - accuracy: 0.9844\n"
     ]
    },
    {
     "data": {
      "text/plain": [
       "<tensorflow.python.keras.callbacks.History at 0x7fa710f32710>"
      ]
     },
     "execution_count": 15,
     "metadata": {},
     "output_type": "execute_result"
    }
   ],
   "source": [
    "model.fit(x=mnist_X_train,y=mnist_y_train, epochs=TRANSFER_TRAIN_EPOCHS, verbose = VERBOSE)"
   ]
  },
  {
   "cell_type": "code",
   "execution_count": 16,
   "metadata": {
    "execution": {
     "iopub.execute_input": "2021-03-28T08:36:13.172373Z",
     "iopub.status.busy": "2021-03-28T08:36:13.171334Z",
     "iopub.status.idle": "2021-03-28T08:36:13.498481Z",
     "shell.execute_reply": "2021-03-28T08:36:13.497895Z"
    },
    "papermill": {
     "duration": 1.937525,
     "end_time": "2021-03-28T08:36:13.498637",
     "exception": false,
     "start_time": "2021-03-28T08:36:11.561112",
     "status": "completed"
    },
    "tags": []
   },
   "outputs": [
    {
     "name": "stdout",
     "output_type": "stream",
     "text": [
      "29/29 [==============================] - 0s 5ms/step - loss: 0.1255 - accuracy: 0.9611\n"
     ]
    },
    {
     "data": {
      "text/plain": [
       "[0.12547388672828674, 0.9611111283302307]"
      ]
     },
     "execution_count": 16,
     "metadata": {},
     "output_type": "execute_result"
    }
   ],
   "source": [
    "model.evaluate(x=mnist_X_test, y=mnist_y_test)"
   ]
  }
 ],
 "metadata": {
  "kernelspec": {
   "display_name": "Python 3",
   "language": "python",
   "name": "python3"
  },
  "language_info": {
   "codemirror_mode": {
    "name": "ipython",
    "version": 3
   },
   "file_extension": ".py",
   "mimetype": "text/x-python",
   "name": "python",
   "nbconvert_exporter": "python",
   "pygments_lexer": "ipython3",
   "version": "3.7.9"
  },
  "papermill": {
   "default_parameters": {},
   "duration": 372.461345,
   "end_time": "2021-03-28T08:36:16.328105",
   "environment_variables": {},
   "exception": null,
   "input_path": "__notebook__.ipynb",
   "output_path": "__notebook__.ipynb",
   "parameters": {},
   "start_time": "2021-03-28T08:30:03.866760",
   "version": "2.2.2"
  }
 },
 "nbformat": 4,
 "nbformat_minor": 4
}
